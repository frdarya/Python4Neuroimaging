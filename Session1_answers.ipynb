{
  "cells": [
    {
      "cell_type": "code",
      "execution_count": null,
      "id": "ca7a9722",
      "metadata": {
        "id": "ca7a9722"
      },
      "outputs": [],
      "source": [
        "# Exercises for Session 1\n",
        "# you may need to look up built-in functions to complete some of the exercises (e.g. range, length,\n",
        "# formatting text for printing)\n",
        "\n",
        "# If you want to practice more, see here: https://pynative.com/python-exercises-with-solutions/\n",
        "# and select the topics we covered\n"
      ]
    },
    {
      "cell_type": "code",
      "execution_count": null,
      "id": "e5f822b9",
      "metadata": {
        "id": "e5f822b9"
      },
      "outputs": [],
      "source": [
        "mass = 47.5\n",
        "age = 122\n",
        "\n",
        "# mutliply mass by 2 (uncomment below)\n",
        "# mass = \n",
        "mass *= 2\n",
        "\n",
        "# subtract 20 from age (uncommmnt below)\n",
        "# age =\n",
        "age -= 20\n",
        "print(mass, age)"
      ]
    },
    {
      "cell_type": "code",
      "execution_count": null,
      "id": "7b638a91",
      "metadata": {
        "id": "7b638a91",
        "outputId": "d4c3cdee-2179-4137-fa7f-40a473f48f88"
      },
      "outputs": [
        {
          "name": "stdout",
          "output_type": "stream",
          "text": [
            "95.0 102\n"
          ]
        }
      ],
      "source": [
        "# create a list with subject IDs 20,21,22 and 26\n",
        "# subID = \n",
        "subID = [20,21,22,26]\n",
        "\n",
        "# add subject ID 19 in the first position and subID 28 in last position (remember indexing system!)\n",
        "subID.insert(0,19)\n",
        "subID.append(28)\n",
        "\n",
        "# remove subjects with odd IDs and save it in a new list called even_subID (advanced - using list comprehension)\n",
        "even_subID = [x for x in subID if x % 2 == 0]\n",
        "\n",
        "print(f'subject ID list is:{subID}, even numbers are {even_subID}')"
      ]
    },
    {
      "cell_type": "code",
      "execution_count": null,
      "id": "26ea4356",
      "metadata": {
        "id": "26ea4356",
        "outputId": "5691bec9-42f1-44af-cd6a-f79c3c5748c4"
      },
      "outputs": [
        {
          "name": "stdout",
          "output_type": "stream",
          "text": [
            "['banana', 'kiwi', 'mango', 'orange', 'pineapple']\n",
            "['banana', 'apple', 'mango', 'orange', 'pineapple']\n"
          ]
        }
      ],
      "source": [
        "thislist = [\"orange\", \"mango\", \"kiwi\", \"pineapple\", \"banana\"]\n",
        "# sort this list alphabetically\n",
        "thislist.sort()\n",
        "# Now change the value from \"kiwi\" to \"apple\", in this list.\n",
        "thislist[1] = 'apple'\n",
        "# And print the number of items in the list.\n",
        "print(len(thislist))\n"
      ]
    },
    {
      "cell_type": "code",
      "execution_count": null,
      "id": "fe40baaf",
      "metadata": {
        "id": "fe40baaf",
        "outputId": "81f5ba08-c67d-4314-b145-f3783f02727b"
      },
      "outputs": [
        {
          "name": "stdout",
          "output_type": "stream",
          "text": [
            "('banana', 'apple', 'mango', 'orange', 'pineapple')\n"
          ]
        }
      ],
      "source": [
        "# now let's create a tuple from thislist called thistuple\n",
        "thistuple = tuple(thislist)\n",
        "# Use negative indexing to print the last item in the tuple.\n",
        "thistuple[-1]\n",
        "# Use slice/range to print the third, fourth, and fifth item in the tuple.\n",
        "thistuple[2:5]\n",
        "\n",
        "\n",
        "print(thistuple)"
      ]
    },
    {
      "cell_type": "code",
      "execution_count": null,
      "id": "c8415eb0",
      "metadata": {
        "id": "c8415eb0",
        "outputId": "b0762973-0abb-460f-b9fc-a060ba852d0d"
      },
      "outputs": [
        {
          "data": {
            "text/plain": [
              "'Mustang'"
            ]
          },
          "execution_count": 34,
          "metadata": {},
          "output_type": "execute_result"
        }
      ],
      "source": [
        "# create a dictionary called 'car' that stores the following pairs:\n",
        "# brand: ford, model: mustang, year: 1964\n",
        "\n",
        "# car = \n",
        "car = {\"brand\": \"Ford\", \"model\": \"Mustang\", \"year\": 1964}\n",
        "\n",
        "# Use the get method to print the value of the \"model\" key of the car dictionary:\n",
        "car.get('model')\n",
        "# Change the \"year\" value from 1964 to 2022:\n",
        "car['year'] = 2022\n",
        "# Add the key/value pair \"color\" : \"red\" to the car dictionary:\n",
        "car[\"color\"] = 'red'\n",
        "# Use the pop method to remove \"model\" from the car dictionary:\n",
        "car.pop(\"model\")\n"
      ]
    },
    {
      "cell_type": "code",
      "execution_count": null,
      "id": "81518a08",
      "metadata": {
        "id": "81518a08"
      },
      "outputs": [],
      "source": [
        "# Print \"1\" if a is equal to b, print \"2\" if a is greater than b, otherwise print \"3\":\n",
        "a = 50\n",
        "b = 100\n",
        "if a == b:\n",
        "    print(\"1\")\n",
        "elif a > b:\n",
        "    print(\"2\")\n",
        "else:\n",
        "    print(\"3\")\n"
      ]
    },
    {
      "cell_type": "code",
      "execution_count": null,
      "id": "81a44375",
      "metadata": {
        "id": "81a44375"
      },
      "outputs": [],
      "source": [
        "# Use the correct short hand syntax to put the following statement on one line:\n",
        "if 5 > 2:\n",
        "    print(\"Five is greater than two!\")\n",
        "\n",
        "if 5 > 2: print(\"Five is greater than two!\")\n"
      ]
    },
    {
      "cell_type": "code",
      "execution_count": null,
      "id": "0f53109d",
      "metadata": {
        "id": "0f53109d"
      },
      "outputs": [],
      "source": [
        "# Create a function named hello that takes a name as argument (default parameter: you) and prints 'hello -name-}':\n",
        "def hello(name=you):\n",
        "    print(f'hello {name}')\n",
        "\n",
        "# If you do not know the number of keyword arguments that will be passed into your function, \n",
        "# there is a prefix you can add in the function definition, what is the prefix and associated argument? \n",
        "# (hint look at the print function)\n",
        "def my_function(____):\n",
        "  print(\"His last name is \" + kid[\"lname\"])\n"
      ]
    }
  ],
  "metadata": {
    "kernelspec": {
      "display_name": "Python 3 (ipykernel)",
      "language": "python",
      "name": "python3"
    },
    "language_info": {
      "codemirror_mode": {
        "name": "ipython",
        "version": 3
      },
      "file_extension": ".py",
      "mimetype": "text/x-python",
      "name": "python",
      "nbconvert_exporter": "python",
      "pygments_lexer": "ipython3",
      "version": "3.9.12"
    },
    "colab": {
      "name": "Session 1.ipynb",
      "provenance": []
    }
  },
  "nbformat": 4,
  "nbformat_minor": 5
}