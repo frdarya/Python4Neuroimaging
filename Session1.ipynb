{
 "cells": [
  {
   "cell_type": "code",
   "execution_count": 1,
   "id": "ca7a9722",
   "metadata": {},
   "outputs": [],
   "source": [
    "# Exercises for Session 1\n",
    "# you may need to look up built-in functions to complete some of the exercises (e.g. range, length,\n",
    "# formatting text for printing)\n",
    "\n",
    "# If you want to practice more, see here: https://pynative.com/python-exercises-with-solutions/\n",
    "# and select the topics we covered\n"
   ]
  },
  {
   "cell_type": "code",
   "execution_count": 2,
   "id": "e5f822b9",
   "metadata": {},
   "outputs": [
    {
     "ename": "SyntaxError",
     "evalue": "invalid syntax (2833477219.py, line 5)",
     "output_type": "error",
     "traceback": [
      "\u001b[0;36m  Input \u001b[0;32mIn [2]\u001b[0;36m\u001b[0m\n\u001b[0;31m    mass =\u001b[0m\n\u001b[0m           ^\u001b[0m\n\u001b[0;31mSyntaxError\u001b[0m\u001b[0;31m:\u001b[0m invalid syntax\n"
     ]
    }
   ],
   "source": [
    "mass = 47.5\n",
    "age = 122\n",
    "\n",
    "# mutliply mass by 2 (uncomment below)\n",
    "mass = \n",
    "\n",
    "# subtract 20 from age (uncommmnt below)\n",
    "age =\n",
    "print(mass, age)"
   ]
  },
  {
   "cell_type": "code",
   "execution_count": null,
   "id": "7b638a91",
   "metadata": {},
   "outputs": [],
   "source": [
    "# create a list with subject IDs 20,21,22 and 26\n",
    "subID = \n",
    "\n",
    "# add subject ID 19 in the first position and subID 28 in last position (remember indexing system!)\n",
    "\n",
    "\n",
    "# remove subjects with odd IDs and save it in a new list called even_subID (advanced - using list comprehension)\n",
    "even_subID =\n",
    "\n",
    "print(f'subject ID list is:{subID}, even numbers are {even_subID}')"
   ]
  },
  {
   "cell_type": "code",
   "execution_count": null,
   "id": "26ea4356",
   "metadata": {},
   "outputs": [],
   "source": [
    "thislist = [\"orange\", \"mango\", \"kiwi\", \"pineapple\", \"banana\"]\n",
    "# sort this list alphabetically\n",
    "\n",
    "# Now change the value from \"kiwi\" to \"apple\", in this list.\n",
    "\n",
    "# And print the number of items in the list.\n"
   ]
  },
  {
   "cell_type": "code",
   "execution_count": null,
   "id": "fe40baaf",
   "metadata": {},
   "outputs": [],
   "source": [
    "# now let's create a tuple from thislist called thistuple\n",
    "thistuple =\n",
    "# Use negative indexing to print the last item in the tuple.\n",
    "\n",
    "# Use slice/range to print the third, fourth, and fifth item in the tuple.\n",
    "\n",
    "print(thistuple)"
   ]
  },
  {
   "cell_type": "code",
   "execution_count": null,
   "id": "c8415eb0",
   "metadata": {},
   "outputs": [],
   "source": [
    "# create a dictionary called 'car' that stores the following pairs:\n",
    "# brand: ford, model: mustang, year: 1964\n",
    "car = \n",
    "\n",
    "# Use the get method to print the value of the \"model\" key of the car dictionary:\n",
    "\n",
    "# Change the \"year\" value from 1964 to 2022:\n",
    "\n",
    "# Add the key/value pair \"color\" : \"red\" to the car dictionary:\n",
    "\n",
    "# Use the pop method to remove \"model\" from the car dictionary:\n"
   ]
  },
  {
   "cell_type": "code",
   "execution_count": null,
   "id": "81518a08",
   "metadata": {},
   "outputs": [],
   "source": [
    "# Use if statement to print \"1\" if a is equal to b, print \"2\" if a is greater than b, otherwise print \"3\":\n",
    "a = 50\n",
    "b = 100\n",
    "\n"
   ]
  },
  {
   "cell_type": "code",
   "execution_count": null,
   "id": "81a44375",
   "metadata": {},
   "outputs": [],
   "source": [
    "# Use the correct short hand syntax to put the following statement on one line:\n",
    "if 5 > 2:\n",
    "    print(\"Five is greater than two!\")\n"
   ]
  },
  {
   "cell_type": "code",
   "execution_count": null,
   "id": "0f53109d",
   "metadata": {},
   "outputs": [],
   "source": [
    "# Create a function named hello that takes a name as argument (default parameter: you) and prints 'hello -name-}':\n",
    "\n",
    "\n",
    "# If you do not know the number of keyword arguments that will be passed into your function, \n",
    "# there is a prefix you can add in the function definition, what is the prefix and associated argument? \n",
    "# (hint look at the print function)\n",
    "def my_function(____):\n",
    "  print(\"His last name is \" + kid[\"lname\"])\n"
   ]
  }
 ],
 "metadata": {
  "kernelspec": {
   "display_name": "Python 3 (ipykernel)",
   "language": "python",
   "name": "python3"
  },
  "language_info": {
   "codemirror_mode": {
    "name": "ipython",
    "version": 3
   },
   "file_extension": ".py",
   "mimetype": "text/x-python",
   "name": "python",
   "nbconvert_exporter": "python",
   "pygments_lexer": "ipython3",
   "version": "3.9.12"
  }
 },
 "nbformat": 4,
 "nbformat_minor": 5
}
